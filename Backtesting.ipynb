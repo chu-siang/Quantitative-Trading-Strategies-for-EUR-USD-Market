{
  "cells": [
    {
      "cell_type": "markdown",
      "metadata": {
        "id": "D_sSAN5kf-II"
      },
      "source": [
        "## Environment\n",
        "\n",
        "Please excute the following instruction in command line before started\n",
        "\n",
        " `! pip install Backtesting`"
      ]
    },
    {
      "cell_type": "code",
      "execution_count": 1,
      "metadata": {
        "colab": {
          "base_uri": "https://localhost:8080/"
        },
        "id": "2AFGFVdVRu1Q",
        "outputId": "33b89637-9259-4093-abce-571debd134ff"
      },
      "outputs": [
        {
          "name": "stdout",
          "output_type": "stream",
          "text": [
            "Requirement already satisfied: Backtesting in c:\\users\\user\\appdata\\local\\programs\\python\\python310\\lib\\site-packages (0.3.3)\n",
            "Requirement already satisfied: numpy>=1.17.0 in c:\\users\\user\\appdata\\local\\programs\\python\\python310\\lib\\site-packages (from Backtesting) (1.23.2)\n",
            "Requirement already satisfied: pandas!=0.25.0,>=0.25.0 in c:\\users\\user\\appdata\\local\\programs\\python\\python310\\lib\\site-packages (from Backtesting) (2.1.4)\n",
            "Requirement already satisfied: bokeh>=1.4.0 in c:\\users\\user\\appdata\\local\\programs\\python\\python310\\lib\\site-packages (from Backtesting) (3.3.2)\n",
            "Requirement already satisfied: Jinja2>=2.9 in c:\\users\\user\\appdata\\local\\programs\\python\\python310\\lib\\site-packages (from bokeh>=1.4.0->Backtesting) (3.1.2)\n",
            "Requirement already satisfied: contourpy>=1 in c:\\users\\user\\appdata\\local\\programs\\python\\python310\\lib\\site-packages (from bokeh>=1.4.0->Backtesting) (1.2.0)\n",
            "Requirement already satisfied: packaging>=16.8 in c:\\users\\user\\appdata\\roaming\\python\\python310\\site-packages (from bokeh>=1.4.0->Backtesting) (23.0)\n",
            "Requirement already satisfied: pillow>=7.1.0 in c:\\users\\user\\appdata\\local\\programs\\python\\python310\\lib\\site-packages (from bokeh>=1.4.0->Backtesting) (10.1.0)\n",
            "Requirement already satisfied: PyYAML>=3.10 in c:\\users\\user\\appdata\\local\\programs\\python\\python310\\lib\\site-packages (from bokeh>=1.4.0->Backtesting) (6.0.1)\n",
            "Requirement already satisfied: tornado>=5.1 in c:\\users\\user\\appdata\\roaming\\python\\python310\\site-packages (from bokeh>=1.4.0->Backtesting) (6.4)\n",
            "Requirement already satisfied: xyzservices>=2021.09.1 in c:\\users\\user\\appdata\\local\\programs\\python\\python310\\lib\\site-packages (from bokeh>=1.4.0->Backtesting) (2023.10.1)\n",
            "Requirement already satisfied: python-dateutil>=2.8.2 in c:\\users\\user\\appdata\\roaming\\python\\python310\\site-packages (from pandas!=0.25.0,>=0.25.0->Backtesting) (2.8.2)\n",
            "Requirement already satisfied: pytz>=2020.1 in c:\\users\\user\\appdata\\local\\programs\\python\\python310\\lib\\site-packages (from pandas!=0.25.0,>=0.25.0->Backtesting) (2023.3.post1)\n",
            "Requirement already satisfied: tzdata>=2022.1 in c:\\users\\user\\appdata\\local\\programs\\python\\python310\\lib\\site-packages (from pandas!=0.25.0,>=0.25.0->Backtesting) (2023.4)\n",
            "Requirement already satisfied: MarkupSafe>=2.0 in c:\\users\\user\\appdata\\local\\programs\\python\\python310\\lib\\site-packages (from Jinja2>=2.9->bokeh>=1.4.0->Backtesting) (2.1.3)\n",
            "Requirement already satisfied: six>=1.5 in c:\\users\\user\\appdata\\roaming\\python\\python310\\site-packages (from python-dateutil>=2.8.2->pandas!=0.25.0,>=0.25.0->Backtesting) (1.16.0)\n",
            "Note: you may need to restart the kernel to use updated packages.\n"
          ]
        }
      ],
      "source": [
        "pip install Backtesting"
      ]
    },
    {
      "cell_type": "code",
      "execution_count": 2,
      "metadata": {},
      "outputs": [
        {
          "name": "stdout",
          "output_type": "stream",
          "text": [
            "Requirement already satisfied: pandas in c:\\users\\user\\appdata\\local\\programs\\python\\python310\\lib\\site-packages (2.1.4)\n",
            "Requirement already satisfied: numpy<2,>=1.22.4 in c:\\users\\user\\appdata\\local\\programs\\python\\python310\\lib\\site-packages (from pandas) (1.23.2)\n",
            "Requirement already satisfied: python-dateutil>=2.8.2 in c:\\users\\user\\appdata\\roaming\\python\\python310\\site-packages (from pandas) (2.8.2)\n",
            "Requirement already satisfied: pytz>=2020.1 in c:\\users\\user\\appdata\\local\\programs\\python\\python310\\lib\\site-packages (from pandas) (2023.3.post1)\n",
            "Requirement already satisfied: tzdata>=2022.1 in c:\\users\\user\\appdata\\local\\programs\\python\\python310\\lib\\site-packages (from pandas) (2023.4)\n",
            "Requirement already satisfied: six>=1.5 in c:\\users\\user\\appdata\\roaming\\python\\python310\\site-packages (from python-dateutil>=2.8.2->pandas) (1.16.0)\n"
          ]
        }
      ],
      "source": [
        "! pip install pandas"
      ]
    },
    {
      "cell_type": "markdown",
      "metadata": {
        "id": "ZTnvYBOKgcy7"
      },
      "source": [
        "# Package modification issue\n",
        "\n",
        "\n",
        "Modify line 148 in\n",
        "\n",
        "`/usr/local/lib/python3.10/dist-packages/backtesting/_plotting.py`\n",
        "\n",
        "to\n",
        "\n",
        "`new_bar_idx = new_index.get_indexer([mean_time], method='nearest')[0]`"
      ]
    },
    {
      "cell_type": "code",
      "execution_count": 3,
      "metadata": {
        "colab": {
          "base_uri": "https://localhost:8080/"
        },
        "id": "tZanJm_22Vgu",
        "outputId": "106ae34f-4770-4783-a044-f7718f6f522e"
      },
      "outputs": [
        {
          "name": "stdout",
          "output_type": "stream",
          "text": [
            "File modification successful.\n"
          ]
        }
      ],
      "source": [
        "import fileinput\n",
        "import sys\n",
        "\n",
        "# (some bug in backtesting package need to be fixed)\n",
        "# file path( change it to your file path) \n",
        "file_path = \"XXXXXXXPython310\\\\Lib\\\\site-packages\\\\backtesting\\\\_plotting.py\"\n",
        "# Lines to be modified\n",
        "line_to_edit = 148\n",
        "\n",
        "# New content\n",
        "new_content = \"                new_bar_idx = new_index.get_indexer([mean_time], method='nearest')[0]\"\n",
        "\n",
        "# Security Check: Backup original file\n",
        "backup_file_path = file_path + '.backup'\n",
        "with open(file_path, 'r') as original_file, open(backup_file_path, 'w') as backup_file:\n",
        "    backup_file.write(original_file.read())\n",
        "\n",
        "# Attempt to modify the file\n",
        "try:\n",
        "    with fileinput.FileInput(file_path, inplace=True, backup='.bak') as file:\n",
        "        for i, line in enumerate(file, start=1):\n",
        "            if i == line_to_edit:\n",
        "                print(new_content)  # Replace with new content\n",
        "            else:\n",
        "                print(line, end='')  # Keep the original content\n",
        "\n",
        "    print(\"File modification successful.\")\n",
        "except Exception as e:\n",
        "    print(f\"Error occurred: {e}\", file=sys.stderr)\n",
        "    # Restore original file in case of an error\n",
        "    with open(backup_file_path, 'r') as backup_file, open(file_path, 'w') as original_file:\n",
        "        original_file.write(backup_file.read())\n",
        "    print(\"File has been restored to its original state.\", file=sys.stderr)\n"
      ]
    },
    {
      "cell_type": "markdown",
      "metadata": {
        "id": "QE9Va9v0h5g0"
      },
      "source": [
        "# Main Program"
      ]
    },
    {
      "cell_type": "markdown",
      "metadata": {
        "id": "rGc5xZoH4A2T"
      },
      "source": [
        "### Dowanload Ta-Lib \n",
        "\n",
        "- colab download Ta-lib\n",
        "\n"
      ]
    },
    {
      "cell_type": "code",
      "execution_count": 62,
      "metadata": {
        "colab": {
          "base_uri": "https://localhost:8080/"
        },
        "id": "MFwStZtQypbg",
        "outputId": "53d2971f-3fa6-45fc-c600-1d0ba0b040f7"
      },

      "source": [
        "!wget http://prdownloads.sourceforge.net/ta-lib/ta-lib-0.4.0-src.tar.gz\n",
        "!tar -xzvf ta-lib-0.4.0-src.tar.gz\n",
        "%cd ta-lib\n",
        "!./configure --prefix=/usr\n",
        "!make\n",
        "!make install\n",
        "!pip install Ta-Lib"
      ]
    },
    {
      "cell_type": "markdown",
      "metadata": {},
      "source": [
        "- Windows download TA-Lib\n",
        "\n",
        "find in https://www.lfd.uci.edu/~gohlke/pythonlibs/#ta-lib\n",
        "\n",
        "then download it and remember the path\n",
        "\n",
        "go to the path and open cmd\n",
        "\n",
        "for example：`cd C:\\Users\\user\\Downloads`\n",
        "\n",
        "input ` pip install \\[ .whl file full names]`\n",
        "for example： `pip install TA_Lib‑0.4.24‑cp310‑cp310‑win_amd64.whl`\n"
      ]
    },
    {
      "cell_type": "markdown",
      "metadata": {},
      "source": [
        "### For example:"
      ]
    },
    {
      "cell_type": "code",
      "execution_count": 1,
      "metadata": {},
      "outputs": [
        {
          "name": "stdout",
          "output_type": "stream",
          "text": [
            "[WinError 2] 系統找不到指定的檔案。: 'C:\\\\Users\\\\userXXXXXXXXXXXX'\n",
            "c:\\Users\\user\\OneDrive - 國立陽明交通大學\\Python\\final_project\n"
          ]
        },
        {
          "name": "stderr",
          "output_type": "stream",
          "text": [
            "C:\\Users\\user\\AppData\\Roaming\\Python\\Python310\\site-packages\\IPython\\core\\magics\\osm.py:393: UserWarning: using bookmarks requires you to install the `pickleshare` library.\n",
            "  bkms = self.shell.db.get('bookmarks', {})\n"
          ]
        }
      ],
      "source": [
        "cd \"C:\\Users\\userXXXXXXXXXXXX\""
      ]
    },
    {
      "cell_type": "code",
      "execution_count": 5,
      "metadata": {},
      "outputs": [
        {
          "name": "stdout",
          "output_type": "stream",
          "text": [
            "Processing c:\\users\\user\\onedrive - 國立陽明交通大學\\temp\\ta_lib-0.4.24-cp310-cp310-win_amd64.whl\n",
            "Requirement already satisfied: numpy in c:\\users\\user\\appdata\\local\\programs\\python\\python310\\lib\\site-packages (from TA-Lib==0.4.24) (1.23.2)\n",
            "TA-Lib is already installed with the same version as the provided wheel. Use --force-reinstall to force an installation of the wheel.\n",
            "Note: you may need to restart the kernel to use updated packages.\n"
          ]
        }
      ],
      "source": [
        "pip install TA_Lib-0.4.24-cp310-cp310-win_amd64.whl"
      ]
    },
    {
      "cell_type": "markdown",
      "metadata": {
        "id": "2Zt8PmYc5LSj"
      },
      "source": [
        "## Import Data"
      ]
    },
    {
      "cell_type": "code",
      "execution_count": 6,
      "metadata": {
        "colab": {
          "base_uri": "https://localhost:8080/",
          "height": 0
        },
        "id": "AMe2XI4OSRpN",
        "outputId": "2cff3c91-045c-483e-baac-fe5b20e20098"
      },
      "outputs": [
        {
          "name": "stderr",
          "output_type": "stream",
          "text": [
            "c:\\Users\\user\\AppData\\Local\\Programs\\Python\\Python310\\lib\\site-packages\\backtesting\\test\\__init__.py:8: FutureWarning: The argument 'infer_datetime_format' is deprecated and will be removed in a future version. A strict version of it is now the default, see https://pandas.pydata.org/pdeps/0004-consistent-to-datetime-parsing.html. You can safely remove this argument.\n",
            "  return pd.read_csv(join(dirname(__file__), filename),\n",
            "c:\\Users\\user\\AppData\\Local\\Programs\\Python\\Python310\\lib\\site-packages\\backtesting\\test\\__init__.py:8: FutureWarning: The argument 'infer_datetime_format' is deprecated and will be removed in a future version. A strict version of it is now the default, see https://pandas.pydata.org/pdeps/0004-consistent-to-datetime-parsing.html. You can safely remove this argument.\n",
            "  return pd.read_csv(join(dirname(__file__), filename),\n",
            "C:\\Users\\user\\AppData\\Local\\Temp\\ipykernel_28316\\2011744394.py:13: DtypeWarning: Columns (1,2,3,4,5) have mixed types. Specify dtype option on import or set low_memory=False.\n",
            "  df = pd.read_csv(data_path, names=GOOG.columns)\n"
          ]
        },
        {
          "data": {
            "text/plain": [
              "'\\n,Open,High,Low,Close,Volume\\n20170102 020000,1.05155,1.05197,1.05155,1.0519,0\\n20170102 020100,1.05209,1.05209,1.05177,1.05179,0\\n20170102 020200,1.05177,1.05198,1.05177,1.05178,0\\n'"
            ]
          },
          "execution_count": 6,
          "metadata": {},
          "output_type": "execute_result"
        }
      ],
      "source": [
        "from backtesting import Backtest, Strategy\n",
        "from backtesting.lib import crossover, resample_apply\n",
        "from backtesting.test import SMA, GOOG\n",
        "import pandas as pd\n",
        "import talib\n",
        "\n",
        "# Please replace it with the path to your own file on the cloud(or the local file path).\n",
        "# Please download the EURUSD_M1_train.csv file first which in the folder \n",
        "#data_path = \"Your csv file path\"  \n",
        "data_path = \"EURUSD_M1_train.csv\"\n",
        "\n",
        "#Import Data.\n",
        "df = pd.read_csv(data_path, names=GOOG.columns)\n",
        "df.index = pd.to_datetime(df.index)\n",
        "df.drop(index=df.index[0], inplace=True)\n",
        "df = df.astype(\"float\")\n",
        "\n",
        "df\n",
        "df.head()\n",
        "\n",
        "#Each transaction format.\n",
        "'''\n",
        ",Open,High,Low,Close,Volume\n",
        "20170102 020000,1.05155,1.05197,1.05155,1.0519,0\n",
        "20170102 020100,1.05209,1.05209,1.05177,1.05179,0\n",
        "20170102 020200,1.05177,1.05198,1.05177,1.05178,0\n",
        "'''"
      ]
    },
    {
      "cell_type": "markdown",
      "metadata": {
        "id": "tXXzJLz4icYT"
      },
      "source": [
        "## Strategy"
      ]
    },
    {
      "cell_type": "code",
      "execution_count": 7,
      "metadata": {
        "id": "6ogZ5_etVuHE"
      },
      "outputs": [],
      "source": [
        "class SmaCross(Strategy):\n",
        "    # Define the time window lengths for two moving averages\n",
        "    n1 = 885  # Longer-term moving average period\n",
        "    n2 = 244  # Shorter-term moving average period\n",
        "    # Best n1 = 885, n2 = 244, size = 10000000 0.461163\n",
        "    def init(self):\n",
        "        # Initialize the strategy\n",
        "        close = self.data.Close  # Get closing price data\n",
        "        self.sma1 = self.I(SMA, close, self.n1)  # Calculate the longer-term moving average\n",
        "        self.sma2 = self.I(SMA, close, self.n2)  # Calculate the shorter-term moving average\n",
        "\n",
        "    def next(self):\n",
        "        # Define the execution logic of the strategy\n",
        "        # Golden cross: A bullish signal where the shorter-term moving average crosses above the longer-term moving average\n",
        "        if crossover(self.sma1, self.sma2):\n",
        "            # Execute a buy if the shorter-term moving average crosses above the longer-term moving average\n",
        "            self.buy(size=10000000)\n",
        "        elif crossover(self.sma2, self.sma1):\n",
        "            # Execute a sell if the shorter-term moving average crosses below the longer-term moving average\n",
        "            # Only long positions, no short positions\n",
        "            if len(self.trades) > 0:\n",
        "                self.trades[0].close()\n",
        "\n",
        "'''\n",
        "Golden Cross represents a signal of an upward trend when a faster-moving average or indicator crosses above a slower-moving one.\n",
        "Death Cross represents a signal of a downward trend when a faster-moving average or indicator crosses below a slower-moving one.\n",
        "'''\n",
        "\n",
        "class TripleCross(Strategy):\n",
        "    # Define the time window lengths for three moving averages\n",
        "    n1 = 548  # Period for the first moving average\n",
        "    n2 = 206  # Period for the second moving average\n",
        "    n3 = 118  # Period for the third moving average\n",
        "    # Best n1 = 548, n2 = 206, n3 = 118 return 67.2% sharp 1.07\n",
        "    # Ratio approximately 55:21:13\n",
        "    def init(self):\n",
        "        # Initialize the strategy\n",
        "        close = self.data.Close  # Get closing price data\n",
        "        self.sma1 = self.I(SMA, close, self.n1)  # Calculate the first moving average\n",
        "        self.sma2 = self.I(SMA, close, self.n2)  # Calculate the second moving average\n",
        "        self.sma3 = self.I(SMA, close, self.n3)  # Calculate the third moving average\n",
        "\n",
        "    def next(self):\n",
        "        count = 0\n",
        "        if crossover(self.sma1, self.sma3) and crossover(self.sma2, self.sma3):\n",
        "            # Execute a buy signal if the shorter-term and middle moving averages cross above the longer-term moving average\n",
        "            self.buy()\n",
        "        elif crossover(self.sma3, self.sma2) and crossover(self.sma3, self.sma1):\n",
        "            # Execute a sell signal if the shorter-term and middle moving averages cross below the longer-term moving average\n",
        "            self.sell()\n",
        "\n",
        "class RSICross(Strategy):\n",
        "    upper_bound = 70\n",
        "    lower_bound = 30\n",
        "    rsi_window = 133\n",
        "    # Best upper_bound 70 lower_bound 30, rsi 133 return 47 sharp ratio 0.81\n",
        "\n",
        "    def init(self):\n",
        "        self.rsi = self.I(talib.RSI, self.data.Close, self.rsi_window)\n",
        "\n",
        "    def next(self):\n",
        "        if crossover(self.rsi, self.upper_bound):\n",
        "            # Execute a buy if the RSI crosses above the upper bound\n",
        "            self.buy()\n",
        "        elif crossover(self.rsi, self.lower_bound):\n",
        "            # Execute a sell if the RSI crosses below the lower bound\n",
        "            self.sell()"
      ]
    },
    {
      "cell_type": "markdown",
      "metadata": {
        "id": "YlNNZU5Cj6S0"
      },
      "source": [
        "## Backtesting\n",
        "\n",
        "### Set up\n",
        "* Initial Amount：100000000\n",
        "* Transaction Fee：0.00005"
      ]
    },
    {
      "cell_type": "code",
      "execution_count": 8,
      "metadata": {
        "colab": {
          "base_uri": "https://localhost:8080/"
        },
        "id": "wXY7rbZ1ThEo",
        "outputId": "40638eb6-bded-4af4-c4ef-e23e1d852c02"
      },
      "outputs": [
        {
          "name": "stderr",
          "output_type": "stream",
          "text": [
            "C:\\Users\\user\\AppData\\Local\\Temp\\ipykernel_28316\\4080375678.py:1: UserWarning: Data index is not sorted in ascending order. Sorting.\n",
            "  bt = Backtest(df, RSICross,cash=100000000, commission = 0.00005, exclusive_orders=True)\n"
          ]
        },
        {
          "data": {
            "text/plain": [
              "Start                     2017-01-02 02:00:00\n",
              "End                       2022-12-30 16:58:00\n",
              "Duration                   2188 days 14:58:00\n",
              "Exposure Time [%]                   94.868862\n",
              "Equity Final [$]             151697064.548124\n",
              "Equity Peak [$]              152015967.269874\n",
              "Return [%]                          51.697065\n",
              "Buy & Hold Return [%]                1.772032\n",
              "Return (Ann.) [%]                    5.763621\n",
              "Volatility (Ann.) [%]                6.563643\n",
              "Sharpe Ratio                         0.878113\n",
              "Sortino Ratio                        1.410603\n",
              "Calmar Ratio                         0.700257\n",
              "Max. Drawdown [%]                   -8.230726\n",
              "Avg. Drawdown [%]                   -0.145551\n",
              "Max. Drawdown Duration      531 days 08:21:00\n",
              "Avg. Drawdown Duration        1 days 11:45:00\n",
              "# Trades                                   25\n",
              "Win Rate [%]                             76.0\n",
              "Best Trade [%]                       9.822729\n",
              "Worst Trade [%]                     -2.309871\n",
              "Avg. Trade [%]                       1.680831\n",
              "Max. Trade Duration         609 days 11:49:00\n",
              "Avg. Trade Duration          83 days 01:56:00\n",
              "Profit Factor                       10.571241\n",
              "Expectancy [%]                       1.726906\n",
              "SQN                                  2.704175\n",
              "_strategy                            RSICross\n",
              "_equity_curve                             ...\n",
              "_trades                            Size  E...\n",
              "dtype: object"
            ]
          },
          "execution_count": 8,
          "metadata": {},
          "output_type": "execute_result"
        }
      ],
      "source": [
        "bt = Backtest(df, RSICross,cash=100000000, commission = 0.00005, exclusive_orders=True)\n",
        "\n",
        "output = bt.run()\n",
        "output"
      ]
    },
    {
      "cell_type": "markdown",
      "metadata": {
        "id": "J9KXJeNJldZp"
      },
      "source": [
        "### Create Analysis Chart\n",
        "\n",
        "- If you use colab, please skip the following instruction and just run the bt.plot()"
      ]
    },
    {
      "cell_type": "code",
      "execution_count": 17,
      "metadata": {},
      "outputs": [
        {
          "name": "stdout",
          "output_type": "stream",
          "text": [
            "Collecting bokeh==2.4.3\n",
            "  Downloading bokeh-2.4.3-py3-none-any.whl (18.5 MB)\n",
            "     ---------------------------------------- 0.0/18.5 MB ? eta -:--:--\n",
            "     ---------------------------------------- 0.0/18.5 MB 1.3 MB/s eta 0:00:15\n",
            "     ---------------------------------------- 0.1/18.5 MB 1.1 MB/s eta 0:00:18\n",
            "     --------------------------------------- 0.1/18.5 MB 901.1 kB/s eta 0:00:21\n",
            "     --------------------------------------- 0.2/18.5 MB 952.6 kB/s eta 0:00:20\n",
            "     ---------------------------------------- 0.2/18.5 MB 1.1 MB/s eta 0:00:18\n",
            "      --------------------------------------- 0.3/18.5 MB 1.1 MB/s eta 0:00:17\n",
            "      --------------------------------------- 0.3/18.5 MB 1.0 MB/s eta 0:00:18\n",
            "      --------------------------------------- 0.4/18.5 MB 1.1 MB/s eta 0:00:18\n",
            "      --------------------------------------- 0.4/18.5 MB 1.0 MB/s eta 0:00:18\n",
            "     - -------------------------------------- 0.5/18.5 MB 1.1 MB/s eta 0:00:17\n",
            "     - -------------------------------------- 0.5/18.5 MB 1.1 MB/s eta 0:00:17\n",
            "     - -------------------------------------- 0.6/18.5 MB 1.1 MB/s eta 0:00:17\n",
            "     - -------------------------------------- 0.6/18.5 MB 1.1 MB/s eta 0:00:17\n",
            "     - -------------------------------------- 0.7/18.5 MB 1.0 MB/s eta 0:00:18\n",
            "     - -------------------------------------- 0.7/18.5 MB 1.1 MB/s eta 0:00:17\n",
            "     - -------------------------------------- 0.8/18.5 MB 1.1 MB/s eta 0:00:17\n",
            "     - -------------------------------------- 0.8/18.5 MB 1.1 MB/s eta 0:00:17\n",
            "     - -------------------------------------- 0.9/18.5 MB 1.1 MB/s eta 0:00:17\n",
            "     - -------------------------------------- 0.9/18.5 MB 1.0 MB/s eta 0:00:17\n",
            "     -- ------------------------------------- 1.0/18.5 MB 1.1 MB/s eta 0:00:17\n",
            "     -- ------------------------------------- 1.0/18.5 MB 1.1 MB/s eta 0:00:17\n",
            "     -- ------------------------------------- 1.1/18.5 MB 1.1 MB/s eta 0:00:17\n",
            "     -- ------------------------------------- 1.1/18.5 MB 1.1 MB/s eta 0:00:17\n",
            "     -- ------------------------------------- 1.2/18.5 MB 1.1 MB/s eta 0:00:17\n",
            "     -- ------------------------------------- 1.2/18.5 MB 1.1 MB/s eta 0:00:17\n",
            "     -- ------------------------------------- 1.3/18.5 MB 1.1 MB/s eta 0:00:17\n",
            "     -- ------------------------------------- 1.3/18.5 MB 1.1 MB/s eta 0:00:17\n",
            "     --- ------------------------------------ 1.4/18.5 MB 1.1 MB/s eta 0:00:16\n",
            "     --- ------------------------------------ 1.4/18.5 MB 1.1 MB/s eta 0:00:17\n",
            "     --- ------------------------------------ 1.5/18.5 MB 1.1 MB/s eta 0:00:16\n",
            "     --- ------------------------------------ 1.5/18.5 MB 1.1 MB/s eta 0:00:16\n",
            "     --- ------------------------------------ 1.6/18.5 MB 1.1 MB/s eta 0:00:16\n",
            "     --- ------------------------------------ 1.6/18.5 MB 1.1 MB/s eta 0:00:16\n",
            "     --- ------------------------------------ 1.7/18.5 MB 1.1 MB/s eta 0:00:16\n",
            "     --- ------------------------------------ 1.7/18.5 MB 1.1 MB/s eta 0:00:16\n",
            "     --- ------------------------------------ 1.8/18.5 MB 1.1 MB/s eta 0:00:16\n",
            "     --- ------------------------------------ 1.8/18.5 MB 1.1 MB/s eta 0:00:16\n",
            "     ---- ----------------------------------- 1.9/18.5 MB 1.1 MB/s eta 0:00:16\n",
            "     ---- ----------------------------------- 1.9/18.5 MB 1.1 MB/s eta 0:00:16\n",
            "     ---- ----------------------------------- 1.9/18.5 MB 1.1 MB/s eta 0:00:16\n",
            "     ---- ----------------------------------- 2.0/18.5 MB 1.1 MB/s eta 0:00:16\n",
            "     ---- ----------------------------------- 2.1/18.5 MB 1.1 MB/s eta 0:00:16\n",
            "     ---- ----------------------------------- 2.1/18.5 MB 1.1 MB/s eta 0:00:16\n",
            "     ---- ----------------------------------- 2.2/18.5 MB 1.1 MB/s eta 0:00:16\n",
            "     ---- ----------------------------------- 2.2/18.5 MB 1.1 MB/s eta 0:00:16\n",
            "     ---- ----------------------------------- 2.3/18.5 MB 1.1 MB/s eta 0:00:16\n",
            "     ----- ---------------------------------- 2.3/18.5 MB 1.1 MB/s eta 0:00:16\n",
            "     ----- ---------------------------------- 2.4/18.5 MB 1.1 MB/s eta 0:00:15\n",
            "     ----- ---------------------------------- 2.4/18.5 MB 1.1 MB/s eta 0:00:16\n",
            "     ----- ---------------------------------- 2.5/18.5 MB 1.1 MB/s eta 0:00:16\n",
            "     ----- ---------------------------------- 2.5/18.5 MB 1.1 MB/s eta 0:00:15\n",
            "     ----- ---------------------------------- 2.6/18.5 MB 1.1 MB/s eta 0:00:15\n",
            "     ----- ---------------------------------- 2.6/18.5 MB 1.1 MB/s eta 0:00:15\n",
            "     ----- ---------------------------------- 2.7/18.5 MB 1.1 MB/s eta 0:00:15\n",
            "     ----- ---------------------------------- 2.7/18.5 MB 1.1 MB/s eta 0:00:15\n",
            "     ----- ---------------------------------- 2.8/18.5 MB 1.1 MB/s eta 0:00:15\n",
            "     ------ --------------------------------- 2.8/18.5 MB 1.1 MB/s eta 0:00:15\n",
            "     ------ --------------------------------- 2.9/18.5 MB 1.1 MB/s eta 0:00:15\n",
            "     ------ --------------------------------- 2.9/18.5 MB 1.1 MB/s eta 0:00:15\n",
            "     ------ --------------------------------- 3.0/18.5 MB 1.1 MB/s eta 0:00:15\n",
            "     ------ --------------------------------- 3.0/18.5 MB 1.1 MB/s eta 0:00:15\n",
            "     ------ --------------------------------- 3.1/18.5 MB 1.1 MB/s eta 0:00:15\n",
            "     ------ --------------------------------- 3.1/18.5 MB 1.1 MB/s eta 0:00:15\n",
            "     ------ --------------------------------- 3.2/18.5 MB 1.1 MB/s eta 0:00:15\n",
            "     ------- -------------------------------- 3.2/18.5 MB 1.1 MB/s eta 0:00:15\n",
            "     ------- -------------------------------- 3.3/18.5 MB 1.1 MB/s eta 0:00:15\n",
            "     ------- -------------------------------- 3.3/18.5 MB 1.1 MB/s eta 0:00:15\n",
            "     ------- -------------------------------- 3.4/18.5 MB 1.1 MB/s eta 0:00:15\n",
            "     ------- -------------------------------- 3.4/18.5 MB 1.1 MB/s eta 0:00:15\n",
            "     ------- -------------------------------- 3.5/18.5 MB 1.1 MB/s eta 0:00:15\n",
            "     ------- -------------------------------- 3.5/18.5 MB 1.1 MB/s eta 0:00:14\n",
            "     ------- -------------------------------- 3.6/18.5 MB 1.1 MB/s eta 0:00:14\n",
            "     ------- -------------------------------- 3.6/18.5 MB 1.1 MB/s eta 0:00:14\n",
            "     ------- -------------------------------- 3.7/18.5 MB 1.1 MB/s eta 0:00:14\n",
            "     -------- ------------------------------- 3.7/18.5 MB 1.1 MB/s eta 0:00:14\n",
            "     -------- ------------------------------- 3.8/18.5 MB 1.1 MB/s eta 0:00:14\n",
            "     -------- ------------------------------- 3.8/18.5 MB 1.1 MB/s eta 0:00:14\n",
            "     -------- ------------------------------- 3.9/18.5 MB 1.1 MB/s eta 0:00:14\n",
            "     -------- ------------------------------- 3.9/18.5 MB 1.1 MB/s eta 0:00:14\n",
            "     -------- ------------------------------- 4.0/18.5 MB 1.1 MB/s eta 0:00:14\n",
            "     -------- ------------------------------- 4.0/18.5 MB 1.1 MB/s eta 0:00:14\n",
            "     -------- ------------------------------- 4.1/18.5 MB 1.1 MB/s eta 0:00:14\n",
            "     -------- ------------------------------- 4.1/18.5 MB 1.1 MB/s eta 0:00:14\n",
            "     --------- ------------------------------ 4.2/18.5 MB 1.1 MB/s eta 0:00:14\n",
            "     --------- ------------------------------ 4.2/18.5 MB 1.1 MB/s eta 0:00:14\n",
            "     --------- ------------------------------ 4.2/18.5 MB 1.1 MB/s eta 0:00:14\n",
            "     --------- ------------------------------ 4.3/18.5 MB 1.1 MB/s eta 0:00:14\n",
            "     --------- ------------------------------ 4.4/18.5 MB 1.1 MB/s eta 0:00:14\n",
            "     --------- ------------------------------ 4.4/18.5 MB 1.1 MB/s eta 0:00:14\n",
            "     --------- ------------------------------ 4.5/18.5 MB 1.1 MB/s eta 0:00:14\n",
            "     --------- ------------------------------ 4.5/18.5 MB 1.1 MB/s eta 0:00:14\n",
            "     --------- ------------------------------ 4.5/18.5 MB 1.1 MB/s eta 0:00:14\n",
            "     --------- ------------------------------ 4.6/18.5 MB 1.1 MB/s eta 0:00:13\n",
            "     ---------- ----------------------------- 4.7/18.5 MB 1.1 MB/s eta 0:00:13\n",
            "     ---------- ----------------------------- 4.8/18.5 MB 1.1 MB/s eta 0:00:13\n",
            "     ---------- ----------------------------- 4.8/18.5 MB 1.1 MB/s eta 0:00:13\n",
            "     ---------- ----------------------------- 4.8/18.5 MB 1.1 MB/s eta 0:00:13\n",
            "     ---------- ----------------------------- 4.9/18.5 MB 1.1 MB/s eta 0:00:13\n",
            "     ---------- ----------------------------- 4.9/18.5 MB 1.1 MB/s eta 0:00:13\n",
            "     ---------- ----------------------------- 5.0/18.5 MB 1.1 MB/s eta 0:00:13\n",
            "     ---------- ----------------------------- 5.0/18.5 MB 1.1 MB/s eta 0:00:13\n",
            "     ---------- ----------------------------- 5.1/18.5 MB 1.1 MB/s eta 0:00:13\n",
            "     ----------- ---------------------------- 5.1/18.5 MB 1.1 MB/s eta 0:00:13\n",
            "     ----------- ---------------------------- 5.2/18.5 MB 1.1 MB/s eta 0:00:13\n",
            "     ----------- ---------------------------- 5.2/18.5 MB 1.1 MB/s eta 0:00:13\n",
            "     ----------- ---------------------------- 5.3/18.5 MB 1.1 MB/s eta 0:00:13\n",
            "     ----------- ---------------------------- 5.3/18.5 MB 1.1 MB/s eta 0:00:13\n",
            "     ----------- ---------------------------- 5.4/18.5 MB 1.1 MB/s eta 0:00:13\n",
            "     ----------- ---------------------------- 5.4/18.5 MB 1.1 MB/s eta 0:00:13\n",
            "     ----------- ---------------------------- 5.5/18.5 MB 1.1 MB/s eta 0:00:13\n",
            "     ----------- ---------------------------- 5.5/18.5 MB 1.1 MB/s eta 0:00:13\n",
            "     ------------ --------------------------- 5.6/18.5 MB 1.1 MB/s eta 0:00:13\n",
            "     ------------ --------------------------- 5.6/18.5 MB 1.1 MB/s eta 0:00:12\n",
            "     ------------ --------------------------- 5.7/18.5 MB 1.1 MB/s eta 0:00:12\n",
            "     ------------ --------------------------- 5.7/18.5 MB 1.1 MB/s eta 0:00:12\n",
            "     ------------ --------------------------- 5.8/18.5 MB 1.1 MB/s eta 0:00:12\n",
            "     ------------ --------------------------- 5.8/18.5 MB 1.1 MB/s eta 0:00:12\n",
            "     ------------ --------------------------- 5.9/18.5 MB 1.1 MB/s eta 0:00:12\n",
            "     ------------ --------------------------- 6.0/18.5 MB 1.1 MB/s eta 0:00:12\n",
            "     ------------ --------------------------- 6.0/18.5 MB 1.1 MB/s eta 0:00:12\n",
            "     ------------- -------------------------- 6.0/18.5 MB 1.1 MB/s eta 0:00:12\n",
            "     ------------- -------------------------- 6.1/18.5 MB 1.1 MB/s eta 0:00:12\n",
            "     ------------- -------------------------- 6.2/18.5 MB 1.1 MB/s eta 0:00:12\n",
            "     ------------- -------------------------- 6.2/18.5 MB 1.1 MB/s eta 0:00:12\n",
            "     ------------- -------------------------- 6.2/18.5 MB 1.1 MB/s eta 0:00:12\n",
            "     ------------- -------------------------- 6.3/18.5 MB 1.1 MB/s eta 0:00:12\n",
            "     ------------- -------------------------- 6.3/18.5 MB 1.1 MB/s eta 0:00:12\n",
            "     ------------- -------------------------- 6.4/18.5 MB 1.1 MB/s eta 0:00:12\n",
            "     ------------- -------------------------- 6.4/18.5 MB 1.1 MB/s eta 0:00:12\n",
            "     -------------- ------------------------- 6.5/18.5 MB 1.1 MB/s eta 0:00:12\n",
            "     -------------- ------------------------- 6.5/18.5 MB 1.1 MB/s eta 0:00:12\n",
            "     -------------- ------------------------- 6.6/18.5 MB 1.1 MB/s eta 0:00:12\n",
            "     -------------- ------------------------- 6.7/18.5 MB 1.1 MB/s eta 0:00:12\n",
            "     -------------- ------------------------- 6.7/18.5 MB 1.1 MB/s eta 0:00:12\n",
            "     -------------- ------------------------- 6.7/18.5 MB 1.1 MB/s eta 0:00:11\n",
            "     -------------- ------------------------- 6.8/18.5 MB 1.1 MB/s eta 0:00:11\n",
            "     -------------- ------------------------- 6.9/18.5 MB 1.1 MB/s eta 0:00:11\n",
            "     -------------- ------------------------- 6.9/18.5 MB 1.1 MB/s eta 0:00:11\n",
            "     --------------- ------------------------ 6.9/18.5 MB 1.1 MB/s eta 0:00:11\n",
            "     --------------- ------------------------ 7.0/18.5 MB 1.1 MB/s eta 0:00:11\n",
            "     --------------- ------------------------ 7.0/18.5 MB 1.1 MB/s eta 0:00:11\n",
            "     --------------- ------------------------ 7.1/18.5 MB 1.1 MB/s eta 0:00:11\n",
            "     --------------- ------------------------ 7.2/18.5 MB 1.1 MB/s eta 0:00:11\n",
            "     --------------- ------------------------ 7.2/18.5 MB 1.1 MB/s eta 0:00:11\n",
            "     --------------- ------------------------ 7.2/18.5 MB 1.1 MB/s eta 0:00:11\n",
            "     --------------- ------------------------ 7.3/18.5 MB 1.1 MB/s eta 0:00:11\n",
            "     --------------- ------------------------ 7.4/18.5 MB 1.1 MB/s eta 0:00:11\n",
            "     ---------------- ----------------------- 7.4/18.5 MB 1.1 MB/s eta 0:00:11\n",
            "     ---------------- ----------------------- 7.4/18.5 MB 1.1 MB/s eta 0:00:11\n",
            "     ---------------- ----------------------- 7.5/18.5 MB 1.1 MB/s eta 0:00:11\n",
            "     ---------------- ----------------------- 7.5/18.5 MB 1.1 MB/s eta 0:00:11\n",
            "     ---------------- ----------------------- 7.6/18.5 MB 1.1 MB/s eta 0:00:11\n",
            "     ---------------- ----------------------- 7.7/18.5 MB 1.1 MB/s eta 0:00:11\n",
            "     ---------------- ----------------------- 7.7/18.5 MB 1.1 MB/s eta 0:00:11\n",
            "     ---------------- ----------------------- 7.7/18.5 MB 1.1 MB/s eta 0:00:11\n",
            "     ---------------- ----------------------- 7.8/18.5 MB 1.1 MB/s eta 0:00:10\n",
            "     ----------------- ---------------------- 7.9/18.5 MB 1.1 MB/s eta 0:00:10\n",
            "     ----------------- ---------------------- 7.9/18.5 MB 1.1 MB/s eta 0:00:10\n",
            "     ----------------- ---------------------- 7.9/18.5 MB 1.1 MB/s eta 0:00:10\n",
            "     ----------------- ---------------------- 8.0/18.5 MB 1.1 MB/s eta 0:00:10\n",
            "     ----------------- ---------------------- 8.1/18.5 MB 1.1 MB/s eta 0:00:10\n",
            "     ----------------- ---------------------- 8.1/18.5 MB 1.1 MB/s eta 0:00:10\n",
            "     ----------------- ---------------------- 8.2/18.5 MB 1.1 MB/s eta 0:00:10\n",
            "     ----------------- ---------------------- 8.2/18.5 MB 1.1 MB/s eta 0:00:10\n",
            "     ----------------- ---------------------- 8.3/18.5 MB 1.1 MB/s eta 0:00:10\n",
            "     ----------------- ---------------------- 8.3/18.5 MB 1.1 MB/s eta 0:00:10\n",
            "     ------------------ --------------------- 8.4/18.5 MB 1.1 MB/s eta 0:00:10\n",
            "     ------------------ --------------------- 8.4/18.5 MB 1.1 MB/s eta 0:00:10\n",
            "     ------------------ --------------------- 8.4/18.5 MB 1.1 MB/s eta 0:00:10\n",
            "     ------------------ --------------------- 8.5/18.5 MB 1.1 MB/s eta 0:00:10\n",
            "     ------------------ --------------------- 8.6/18.5 MB 1.1 MB/s eta 0:00:10\n",
            "     ------------------ --------------------- 8.6/18.5 MB 1.1 MB/s eta 0:00:10\n",
            "     ------------------ --------------------- 8.6/18.5 MB 1.1 MB/s eta 0:00:10\n",
            "     ------------------ --------------------- 8.7/18.5 MB 1.1 MB/s eta 0:00:10\n",
            "     ------------------ --------------------- 8.8/18.5 MB 1.1 MB/s eta 0:00:10\n",
            "     ------------------- -------------------- 8.8/18.5 MB 1.1 MB/s eta 0:00:09\n",
            "     ------------------- -------------------- 8.9/18.5 MB 1.1 MB/s eta 0:00:09\n",
            "     ------------------- -------------------- 8.9/18.5 MB 1.1 MB/s eta 0:00:09\n",
            "     ------------------- -------------------- 9.0/18.5 MB 1.1 MB/s eta 0:00:09\n",
            "     ------------------- -------------------- 9.0/18.5 MB 1.1 MB/s eta 0:00:09\n",
            "     ------------------- -------------------- 9.1/18.5 MB 1.1 MB/s eta 0:00:09\n",
            "     ------------------- -------------------- 9.1/18.5 MB 1.1 MB/s eta 0:00:09\n",
            "     ------------------- -------------------- 9.1/18.5 MB 1.1 MB/s eta 0:00:09\n",
            "     ------------------- -------------------- 9.2/18.5 MB 1.1 MB/s eta 0:00:09\n",
            "     -------------------- ------------------- 9.3/18.5 MB 1.1 MB/s eta 0:00:09\n",
            "     -------------------- ------------------- 9.3/18.5 MB 1.1 MB/s eta 0:00:09\n",
            "     -------------------- ------------------- 9.3/18.5 MB 1.1 MB/s eta 0:00:09\n",
            "     -------------------- ------------------- 9.4/18.5 MB 1.1 MB/s eta 0:00:09\n",
            "     -------------------- ------------------- 9.5/18.5 MB 1.1 MB/s eta 0:00:09\n",
            "     -------------------- ------------------- 9.5/18.5 MB 1.1 MB/s eta 0:00:09\n",
            "     -------------------- ------------------- 9.6/18.5 MB 1.1 MB/s eta 0:00:09\n",
            "     -------------------- ------------------- 9.6/18.5 MB 1.1 MB/s eta 0:00:09\n",
            "     -------------------- ------------------- 9.6/18.5 MB 1.1 MB/s eta 0:00:09\n",
            "     --------------------- ------------------ 9.7/18.5 MB 1.1 MB/s eta 0:00:09\n",
            "     --------------------- ------------------ 9.8/18.5 MB 1.1 MB/s eta 0:00:09\n",
            "     --------------------- ------------------ 9.8/18.5 MB 1.1 MB/s eta 0:00:09\n",
            "     --------------------- ------------------ 9.9/18.5 MB 1.1 MB/s eta 0:00:09\n",
            "     --------------------- ------------------ 9.9/18.5 MB 1.1 MB/s eta 0:00:08\n",
            "     --------------------- ------------------ 10.0/18.5 MB 1.1 MB/s eta 0:00:08\n",
            "     --------------------- ------------------ 10.0/18.5 MB 1.1 MB/s eta 0:00:08\n",
            "     --------------------- ------------------ 10.1/18.5 MB 1.1 MB/s eta 0:00:08\n",
            "     --------------------- ------------------ 10.1/18.5 MB 1.1 MB/s eta 0:00:08\n",
            "     --------------------- ------------------ 10.2/18.5 MB 1.1 MB/s eta 0:00:08\n",
            "     ---------------------- ----------------- 10.2/18.5 MB 1.1 MB/s eta 0:00:08\n",
            "     ---------------------- ----------------- 10.3/18.5 MB 1.1 MB/s eta 0:00:08\n",
            "     ---------------------- ----------------- 10.3/18.5 MB 1.1 MB/s eta 0:00:08\n",
            "     ---------------------- ----------------- 10.4/18.5 MB 1.1 MB/s eta 0:00:08\n",
            "     ---------------------- ----------------- 10.4/18.5 MB 1.1 MB/s eta 0:00:08\n",
            "     ---------------------- ----------------- 10.5/18.5 MB 1.1 MB/s eta 0:00:08\n",
            "     ---------------------- ----------------- 10.5/18.5 MB 1.1 MB/s eta 0:00:08\n",
            "     ---------------------- ----------------- 10.6/18.5 MB 1.1 MB/s eta 0:00:08\n",
            "     ---------------------- ----------------- 10.6/18.5 MB 1.1 MB/s eta 0:00:08\n",
            "     ----------------------- ---------------- 10.7/18.5 MB 1.1 MB/s eta 0:00:08\n",
            "     ----------------------- ---------------- 10.7/18.5 MB 1.1 MB/s eta 0:00:08\n",
            "     ----------------------- ---------------- 10.8/18.5 MB 1.1 MB/s eta 0:00:08\n",
            "     ----------------------- ---------------- 10.9/18.5 MB 1.1 MB/s eta 0:00:08\n",
            "     ----------------------- ---------------- 10.9/18.5 MB 1.1 MB/s eta 0:00:08\n",
            "     ----------------------- ---------------- 10.9/18.5 MB 1.1 MB/s eta 0:00:08\n",
            "     ----------------------- ---------------- 11.0/18.5 MB 1.1 MB/s eta 0:00:07\n",
            "     ----------------------- ---------------- 11.1/18.5 MB 1.1 MB/s eta 0:00:07\n",
            "     ------------------------ --------------- 11.1/18.5 MB 1.1 MB/s eta 0:00:07\n",
            "     ------------------------ --------------- 11.1/18.5 MB 1.1 MB/s eta 0:00:07\n",
            "     ------------------------ --------------- 11.2/18.5 MB 1.1 MB/s eta 0:00:07\n",
            "     ------------------------ --------------- 11.3/18.5 MB 1.1 MB/s eta 0:00:07\n",
            "     ------------------------ --------------- 11.3/18.5 MB 1.1 MB/s eta 0:00:07\n",
            "     ------------------------ --------------- 11.4/18.5 MB 1.1 MB/s eta 0:00:07\n",
            "     ------------------------ --------------- 11.4/18.5 MB 1.1 MB/s eta 0:00:07\n",
            "     ------------------------ --------------- 11.4/18.5 MB 1.1 MB/s eta 0:00:07\n",
            "     ------------------------ --------------- 11.5/18.5 MB 1.1 MB/s eta 0:00:07\n",
            "     ------------------------- -------------- 11.6/18.5 MB 1.1 MB/s eta 0:00:07\n",
            "     ------------------------- -------------- 11.6/18.5 MB 1.1 MB/s eta 0:00:07\n",
            "     ------------------------- -------------- 11.6/18.5 MB 1.1 MB/s eta 0:00:07\n",
            "     ------------------------- -------------- 11.7/18.5 MB 1.1 MB/s eta 0:00:07\n",
            "     ------------------------- -------------- 11.8/18.5 MB 1.1 MB/s eta 0:00:07\n",
            "     ------------------------- -------------- 11.8/18.5 MB 1.1 MB/s eta 0:00:07\n",
            "     ------------------------- -------------- 11.9/18.5 MB 1.1 MB/s eta 0:00:07\n",
            "     ------------------------- -------------- 11.9/18.5 MB 1.1 MB/s eta 0:00:07\n",
            "     ------------------------- -------------- 12.0/18.5 MB 1.1 MB/s eta 0:00:07\n",
            "     ------------------------- -------------- 12.0/18.5 MB 1.1 MB/s eta 0:00:06\n",
            "     -------------------------- ------------- 12.1/18.5 MB 1.1 MB/s eta 0:00:06\n",
            "     -------------------------- ------------- 12.1/18.5 MB 1.1 MB/s eta 0:00:06\n",
            "     -------------------------- ------------- 12.1/18.5 MB 1.1 MB/s eta 0:00:06\n",
            "     -------------------------- ------------- 12.2/18.5 MB 1.1 MB/s eta 0:00:06\n",
            "     -------------------------- ------------- 12.3/18.5 MB 1.1 MB/s eta 0:00:06\n",
            "     -------------------------- ------------- 12.3/18.5 MB 1.1 MB/s eta 0:00:06\n",
            "     -------------------------- ------------- 12.4/18.5 MB 1.1 MB/s eta 0:00:06\n",
            "     -------------------------- ------------- 12.4/18.5 MB 1.1 MB/s eta 0:00:06\n",
            "     -------------------------- ------------- 12.5/18.5 MB 1.1 MB/s eta 0:00:06\n",
            "     --------------------------- ------------ 12.5/18.5 MB 1.1 MB/s eta 0:00:06\n",
            "     --------------------------- ------------ 12.6/18.5 MB 1.1 MB/s eta 0:00:06\n",
            "     --------------------------- ------------ 12.6/18.5 MB 1.1 MB/s eta 0:00:06\n",
            "     --------------------------- ------------ 12.6/18.5 MB 1.1 MB/s eta 0:00:06\n",
            "     --------------------------- ------------ 12.7/18.5 MB 1.1 MB/s eta 0:00:06\n",
            "     --------------------------- ------------ 12.8/18.5 MB 1.1 MB/s eta 0:00:06\n",
            "     --------------------------- ------------ 12.8/18.5 MB 1.1 MB/s eta 0:00:06\n",
            "     --------------------------- ------------ 12.8/18.5 MB 1.1 MB/s eta 0:00:06\n",
            "     --------------------------- ------------ 12.9/18.5 MB 1.1 MB/s eta 0:00:06\n",
            "     --------------------------- ------------ 12.9/18.5 MB 1.1 MB/s eta 0:00:06\n",
            "     ---------------------------- ----------- 13.0/18.5 MB 1.1 MB/s eta 0:00:06\n",
            "     ---------------------------- ----------- 13.0/18.5 MB 1.1 MB/s eta 0:00:06\n",
            "     ---------------------------- ----------- 13.0/18.5 MB 1.1 MB/s eta 0:00:06\n",
            "     ---------------------------- ----------- 13.1/18.5 MB 1.1 MB/s eta 0:00:06\n",
            "     ---------------------------- ----------- 13.1/18.5 MB 1.1 MB/s eta 0:00:06\n",
            "     ---------------------------- ----------- 13.2/18.5 MB 1.1 MB/s eta 0:00:05\n",
            "     ---------------------------- ----------- 13.2/18.5 MB 1.1 MB/s eta 0:00:05\n",
            "     ---------------------------- ----------- 13.2/18.5 MB 1.1 MB/s eta 0:00:05\n",
            "     ---------------------------- ----------- 13.3/18.5 MB 1.1 MB/s eta 0:00:05\n",
            "     ---------------------------- ----------- 13.3/18.5 MB 1.1 MB/s eta 0:00:05\n",
            "     ---------------------------- ----------- 13.4/18.5 MB 1.1 MB/s eta 0:00:05\n",
            "     ---------------------------- ----------- 13.4/18.5 MB 1.1 MB/s eta 0:00:05\n",
            "     ----------------------------- ---------- 13.5/18.5 MB 1.1 MB/s eta 0:00:05\n",
            "     ----------------------------- ---------- 13.5/18.5 MB 1.1 MB/s eta 0:00:05\n",
            "     ----------------------------- ---------- 13.6/18.5 MB 1.1 MB/s eta 0:00:05\n",
            "     ----------------------------- ---------- 13.6/18.5 MB 1.1 MB/s eta 0:00:05\n",
            "     ----------------------------- ---------- 13.7/18.5 MB 1.1 MB/s eta 0:00:05\n",
            "     ----------------------------- ---------- 13.7/18.5 MB 1.1 MB/s eta 0:00:05\n",
            "     ----------------------------- ---------- 13.8/18.5 MB 1.1 MB/s eta 0:00:05\n",
            "     ----------------------------- ---------- 13.8/18.5 MB 1.1 MB/s eta 0:00:05\n",
            "     ----------------------------- ---------- 13.9/18.5 MB 1.1 MB/s eta 0:00:05\n",
            "     ------------------------------ --------- 13.9/18.5 MB 1.1 MB/s eta 0:00:05\n",
            "     ------------------------------ --------- 14.0/18.5 MB 1.1 MB/s eta 0:00:05\n",
            "     ------------------------------ --------- 14.1/18.5 MB 1.1 MB/s eta 0:00:05\n",
            "     ------------------------------ --------- 14.1/18.5 MB 1.1 MB/s eta 0:00:05\n",
            "     ------------------------------ --------- 14.1/18.5 MB 1.1 MB/s eta 0:00:05\n",
            "     ------------------------------ --------- 14.2/18.5 MB 1.1 MB/s eta 0:00:05\n",
            "     ------------------------------ --------- 14.2/18.5 MB 1.1 MB/s eta 0:00:04\n",
            "     ------------------------------ --------- 14.3/18.5 MB 1.1 MB/s eta 0:00:04\n",
            "     ------------------------------- -------- 14.3/18.5 MB 1.1 MB/s eta 0:00:04\n",
            "     ------------------------------- -------- 14.4/18.5 MB 1.1 MB/s eta 0:00:04\n",
            "     ------------------------------- -------- 14.4/18.5 MB 1.1 MB/s eta 0:00:04\n",
            "     ------------------------------- -------- 14.5/18.5 MB 1.1 MB/s eta 0:00:04\n",
            "     ------------------------------- -------- 14.6/18.5 MB 1.1 MB/s eta 0:00:04\n",
            "     ------------------------------- -------- 14.6/18.5 MB 1.1 MB/s eta 0:00:04\n",
            "     ------------------------------- -------- 14.6/18.5 MB 1.1 MB/s eta 0:00:04\n",
            "     ------------------------------- -------- 14.7/18.5 MB 1.1 MB/s eta 0:00:04\n",
            "     ------------------------------- -------- 14.8/18.5 MB 1.1 MB/s eta 0:00:04\n",
            "     -------------------------------- ------- 14.8/18.5 MB 1.1 MB/s eta 0:00:04\n",
            "     -------------------------------- ------- 14.8/18.5 MB 1.1 MB/s eta 0:00:04\n",
            "     -------------------------------- ------- 14.9/18.5 MB 1.1 MB/s eta 0:00:04\n",
            "     -------------------------------- ------- 15.0/18.5 MB 1.1 MB/s eta 0:00:04\n",
            "     -------------------------------- ------- 15.0/18.5 MB 1.1 MB/s eta 0:00:04\n",
            "     -------------------------------- ------- 15.1/18.5 MB 1.1 MB/s eta 0:00:04\n",
            "     -------------------------------- ------- 15.1/18.5 MB 1.1 MB/s eta 0:00:04\n",
            "     -------------------------------- ------- 15.1/18.5 MB 1.1 MB/s eta 0:00:04\n",
            "     -------------------------------- ------- 15.2/18.5 MB 1.1 MB/s eta 0:00:04\n",
            "     -------------------------------- ------- 15.3/18.5 MB 1.1 MB/s eta 0:00:04\n",
            "     --------------------------------- ------ 15.3/18.5 MB 1.1 MB/s eta 0:00:03\n",
            "     --------------------------------- ------ 15.3/18.5 MB 1.1 MB/s eta 0:00:03\n",
            "     --------------------------------- ------ 15.4/18.5 MB 1.1 MB/s eta 0:00:03\n",
            "     --------------------------------- ------ 15.5/18.5 MB 1.1 MB/s eta 0:00:03\n",
            "     --------------------------------- ------ 15.5/18.5 MB 1.1 MB/s eta 0:00:03\n",
            "     --------------------------------- ------ 15.6/18.5 MB 1.1 MB/s eta 0:00:03\n",
            "     --------------------------------- ------ 15.6/18.5 MB 1.1 MB/s eta 0:00:03\n",
            "     --------------------------------- ------ 15.6/18.5 MB 1.1 MB/s eta 0:00:03\n",
            "     --------------------------------- ------ 15.7/18.5 MB 1.1 MB/s eta 0:00:03\n",
            "     ---------------------------------- ----- 15.8/18.5 MB 1.1 MB/s eta 0:00:03\n",
            "     ---------------------------------- ----- 15.8/18.5 MB 1.1 MB/s eta 0:00:03\n",
            "     ---------------------------------- ----- 15.8/18.5 MB 1.1 MB/s eta 0:00:03\n",
            "     ---------------------------------- ----- 15.9/18.5 MB 1.1 MB/s eta 0:00:03\n",
            "     ---------------------------------- ----- 16.0/18.5 MB 1.1 MB/s eta 0:00:03\n",
            "     ---------------------------------- ----- 16.0/18.5 MB 1.1 MB/s eta 0:00:03\n",
            "     ---------------------------------- ----- 16.1/18.5 MB 1.1 MB/s eta 0:00:03\n",
            "     ---------------------------------- ----- 16.1/18.5 MB 1.1 MB/s eta 0:00:03\n",
            "     ---------------------------------- ----- 16.2/18.5 MB 1.1 MB/s eta 0:00:03\n",
            "     ----------------------------------- ---- 16.2/18.5 MB 1.1 MB/s eta 0:00:03\n",
            "     ----------------------------------- ---- 16.3/18.5 MB 1.1 MB/s eta 0:00:03\n",
            "     ----------------------------------- ---- 16.3/18.5 MB 1.1 MB/s eta 0:00:03\n",
            "     ----------------------------------- ---- 16.3/18.5 MB 1.1 MB/s eta 0:00:03\n",
            "     ----------------------------------- ---- 16.4/18.5 MB 1.1 MB/s eta 0:00:02\n",
            "     ----------------------------------- ---- 16.5/18.5 MB 1.1 MB/s eta 0:00:02\n",
            "     ----------------------------------- ---- 16.5/18.5 MB 1.1 MB/s eta 0:00:02\n",
            "     ----------------------------------- ---- 16.6/18.5 MB 1.1 MB/s eta 0:00:02\n",
            "     ----------------------------------- ---- 16.6/18.5 MB 1.1 MB/s eta 0:00:02\n",
            "     ------------------------------------ --- 16.7/18.5 MB 1.1 MB/s eta 0:00:02\n",
            "     ------------------------------------ --- 16.7/18.5 MB 1.1 MB/s eta 0:00:02\n",
            "     ------------------------------------ --- 16.8/18.5 MB 1.1 MB/s eta 0:00:02\n",
            "     ------------------------------------ --- 16.8/18.5 MB 1.1 MB/s eta 0:00:02\n",
            "     ------------------------------------ --- 16.9/18.5 MB 1.1 MB/s eta 0:00:02\n",
            "     ------------------------------------ --- 16.9/18.5 MB 1.1 MB/s eta 0:00:02\n",
            "     ------------------------------------ --- 17.0/18.5 MB 1.1 MB/s eta 0:00:02\n",
            "     ------------------------------------ --- 17.0/18.5 MB 1.1 MB/s eta 0:00:02\n",
            "     ------------------------------------ --- 17.1/18.5 MB 1.1 MB/s eta 0:00:02\n",
            "     ------------------------------------- -- 17.1/18.5 MB 1.1 MB/s eta 0:00:02\n",
            "     ------------------------------------- -- 17.2/18.5 MB 1.1 MB/s eta 0:00:02\n",
            "     ------------------------------------- -- 17.2/18.5 MB 1.1 MB/s eta 0:00:02\n",
            "     ------------------------------------- -- 17.3/18.5 MB 1.1 MB/s eta 0:00:02\n",
            "     ------------------------------------- -- 17.3/18.5 MB 1.1 MB/s eta 0:00:02\n",
            "     ------------------------------------- -- 17.4/18.5 MB 1.1 MB/s eta 0:00:02\n",
            "     ------------------------------------- -- 17.4/18.5 MB 1.1 MB/s eta 0:00:02\n",
            "     ------------------------------------- -- 17.5/18.5 MB 1.1 MB/s eta 0:00:01\n",
            "     ------------------------------------- -- 17.5/18.5 MB 1.1 MB/s eta 0:00:01\n",
            "     ------------------------------------- -- 17.6/18.5 MB 1.1 MB/s eta 0:00:01\n",
            "     -------------------------------------- - 17.6/18.5 MB 1.1 MB/s eta 0:00:01\n",
            "     -------------------------------------- - 17.7/18.5 MB 1.1 MB/s eta 0:00:01\n",
            "     -------------------------------------- - 17.7/18.5 MB 1.1 MB/s eta 0:00:01\n",
            "     -------------------------------------- - 17.8/18.5 MB 1.1 MB/s eta 0:00:01\n",
            "     -------------------------------------- - 17.8/18.5 MB 1.1 MB/s eta 0:00:01\n",
            "     -------------------------------------- - 17.9/18.5 MB 1.1 MB/s eta 0:00:01\n",
            "     -------------------------------------- - 18.0/18.5 MB 1.1 MB/s eta 0:00:01\n",
            "     -------------------------------------- - 18.0/18.5 MB 1.1 MB/s eta 0:00:01\n",
            "     -------------------------------------- - 18.0/18.5 MB 1.1 MB/s eta 0:00:01\n",
            "     ---------------------------------------  18.1/18.5 MB 1.1 MB/s eta 0:00:01\n",
            "     ---------------------------------------  18.1/18.5 MB 1.1 MB/s eta 0:00:01\n",
            "     ---------------------------------------  18.2/18.5 MB 1.1 MB/s eta 0:00:01\n",
            "     ---------------------------------------  18.2/18.5 MB 1.1 MB/s eta 0:00:01\n",
            "     ---------------------------------------  18.3/18.5 MB 1.1 MB/s eta 0:00:01\n",
            "     ---------------------------------------  18.3/18.5 MB 1.1 MB/s eta 0:00:01\n",
            "     ---------------------------------------  18.4/18.5 MB 1.1 MB/s eta 0:00:01\n",
            "     ---------------------------------------  18.5/18.5 MB 1.1 MB/s eta 0:00:01\n",
            "     ---------------------------------------  18.5/18.5 MB 1.1 MB/s eta 0:00:01\n",
            "     ---------------------------------------- 18.5/18.5 MB 1.1 MB/s eta 0:00:00\n",
            "Collecting Jinja2>=2.9 (from bokeh==2.4.3)\n",
            "  Using cached Jinja2-3.1.2-py3-none-any.whl (133 kB)\n",
            "Collecting numpy>=1.11.3 (from bokeh==2.4.3)\n",
            "  Using cached numpy-1.26.3-cp310-cp310-win_amd64.whl.metadata (61 kB)\n",
            "Collecting packaging>=16.8 (from bokeh==2.4.3)\n",
            "  Using cached packaging-23.2-py3-none-any.whl.metadata (3.2 kB)\n",
            "Collecting pillow>=7.1.0 (from bokeh==2.4.3)\n",
            "  Using cached pillow-10.2.0-cp310-cp310-win_amd64.whl.metadata (9.9 kB)\n",
            "Collecting PyYAML>=3.10 (from bokeh==2.4.3)\n",
            "  Using cached PyYAML-6.0.1-cp310-cp310-win_amd64.whl.metadata (2.1 kB)\n",
            "Collecting tornado>=5.1 (from bokeh==2.4.3)\n",
            "  Using cached tornado-6.4-cp38-abi3-win_amd64.whl.metadata (2.6 kB)\n",
            "Collecting typing-extensions>=3.10.0 (from bokeh==2.4.3)\n",
            "  Using cached typing_extensions-4.9.0-py3-none-any.whl.metadata (3.0 kB)\n",
            "Collecting MarkupSafe>=2.0 (from Jinja2>=2.9->bokeh==2.4.3)\n",
            "  Using cached MarkupSafe-2.1.3-cp310-cp310-win_amd64.whl.metadata (3.1 kB)\n",
            "Using cached numpy-1.26.3-cp310-cp310-win_amd64.whl (15.8 MB)\n",
            "Using cached packaging-23.2-py3-none-any.whl (53 kB)\n",
            "Using cached pillow-10.2.0-cp310-cp310-win_amd64.whl (2.6 MB)\n",
            "Using cached PyYAML-6.0.1-cp310-cp310-win_amd64.whl (145 kB)\n",
            "Using cached tornado-6.4-cp38-abi3-win_amd64.whl (436 kB)\n",
            "Using cached typing_extensions-4.9.0-py3-none-any.whl (32 kB)\n",
            "Using cached MarkupSafe-2.1.3-cp310-cp310-win_amd64.whl (17 kB)\n",
            "Installing collected packages: typing-extensions, tornado, PyYAML, pillow, packaging, numpy, MarkupSafe, Jinja2, bokeh\n",
            "  Attempting uninstall: typing-extensions\n",
            "    Found existing installation: typing_extensions 4.9.0\n",
            "    Uninstalling typing_extensions-4.9.0:\n",
            "      Successfully uninstalled typing_extensions-4.9.0\n",
            "  Attempting uninstall: tornado\n",
            "    Found existing installation: tornado 6.4\n",
            "    Uninstalling tornado-6.4:\n",
            "      Successfully uninstalled tornado-6.4\n",
            "  Attempting uninstall: PyYAML\n",
            "    Found existing installation: PyYAML 6.0.1\n",
            "    Uninstalling PyYAML-6.0.1:\n",
            "      Successfully uninstalled PyYAML-6.0.1\n",
            "  Attempting uninstall: pillow\n",
            "    Found existing installation: pillow 10.2.0\n",
            "    Uninstalling pillow-10.2.0:\n",
            "      Successfully uninstalled pillow-10.2.0\n",
            "  Attempting uninstall: packaging\n",
            "    Found existing installation: packaging 23.2\n",
            "    Uninstalling packaging-23.2:\n",
            "      Successfully uninstalled packaging-23.2\n",
            "  Attempting uninstall: numpy\n",
            "    Found existing installation: numpy 1.26.3\n",
            "    Uninstalling numpy-1.26.3:\n",
            "      Successfully uninstalled numpy-1.26.3\n",
            "  Attempting uninstall: MarkupSafe\n",
            "    Found existing installation: MarkupSafe 2.1.3\n",
            "    Uninstalling MarkupSafe-2.1.3:\n",
            "      Successfully uninstalled MarkupSafe-2.1.3\n",
            "  Attempting uninstall: Jinja2\n",
            "    Found existing installation: Jinja2 3.1.2\n",
            "    Uninstalling Jinja2-3.1.2:\n",
            "      Successfully uninstalled Jinja2-3.1.2\n",
            "  Attempting uninstall: bokeh\n",
            "    Found existing installation: bokeh 2.4.2\n",
            "    Uninstalling bokeh-2.4.2:\n",
            "      Successfully uninstalled bokeh-2.4.2\n",
            "Successfully installed Jinja2-3.1.2 MarkupSafe-2.1.3 PyYAML-6.0.1 bokeh-2.4.3 numpy-1.26.3 packaging-23.2 pillow-10.2.0 tornado-6.4 typing-extensions-4.9.0\n",
            "Note: you may need to restart the kernel to use updated packages.\n"
          ]
        }
      ],
      "source": [
        " pip install --force-reinstall bokeh==2.4.3"
      ]
    },
    {
      "cell_type": "markdown",
      "metadata": {},
      "source": [
        "If you use Vscode or other editor please open the html with\n",
        "\n",
        "\"Brave\" browser or \"Microsoft Edge\" browser"
      ]
    },
    {
      "cell_type": "code",
      "execution_count": 18,
      "metadata": {
        "colab": {
          "base_uri": "https://localhost:8080/",
          "height": 1000
        },
        "id": "eTof11xwSiN9",
        "outputId": "fa008f5d-28f1-433a-9007-62b1139349a8"
      },
      "outputs": [
        {
          "name": "stderr",
          "output_type": "stream",
          "text": [
            "BokehDeprecationWarning: Passing lists of formats for DatetimeTickFormatter scales was deprecated in Bokeh 3.0. Configure a single string format for each scale\n",
            "c:\\Users\\user\\AppData\\Local\\Programs\\Python\\Python310\\lib\\site-packages\\backtesting\\_plotting.py:250: UserWarning: DatetimeFormatter scales now only accept a single format. Using the first provided: '%d %b'\n",
            "  formatter=DatetimeTickFormatter(days=['%d %b', '%a %d'],\n",
            "BokehDeprecationWarning: Passing lists of formats for DatetimeTickFormatter scales was deprecated in Bokeh 3.0. Configure a single string format for each scale\n",
            "c:\\Users\\user\\AppData\\Local\\Programs\\Python\\Python310\\lib\\site-packages\\backtesting\\_plotting.py:250: UserWarning: DatetimeFormatter scales now only accept a single format. Using the first provided: '%m/%Y'\n",
            "  formatter=DatetimeTickFormatter(days=['%d %b', '%a %d'],\n",
            "c:\\Users\\user\\AppData\\Local\\Programs\\Python\\Python310\\lib\\site-packages\\backtesting\\_plotting.py:659: UserWarning: found multiple competing values for 'toolbar.active_drag' property; using the latest value\n",
            "  fig = gridplot(\n",
            "c:\\Users\\user\\AppData\\Local\\Programs\\Python\\Python310\\lib\\site-packages\\backtesting\\_plotting.py:659: UserWarning: found multiple competing values for 'toolbar.active_scroll' property; using the latest value\n",
            "  fig = gridplot(\n"
          ]
        },
        {
          "data": {
            "text/html": [
              "<div style=\"display: table;\"><div style=\"display: table-row;\"><div style=\"display: table-cell;\"><b title=\"bokeh.models.plots.GridPlot\">GridPlot</b>(</div><div style=\"display: table-cell;\">id&nbsp;=&nbsp;'p2497', <span id=\"p2528\" style=\"cursor: pointer;\">&hellip;)</span></div></div><div class=\"p2527\" style=\"display: none;\"><div style=\"display: table-cell;\"></div><div style=\"display: table-cell;\">align&nbsp;=&nbsp;'auto',</div></div><div class=\"p2527\" style=\"display: none;\"><div style=\"display: table-cell;\"></div><div style=\"display: table-cell;\">aspect_ratio&nbsp;=&nbsp;None,</div></div><div class=\"p2527\" style=\"display: none;\"><div style=\"display: table-cell;\"></div><div style=\"display: table-cell;\">children&nbsp;=&nbsp;[(figure(id='p2192', ...), 0, 0), (figure(id='p2289', ...), 1, 0), (figure(id='p2148', ...), 2, 0), (figure(id='p2344', ...), 3, 0), (figure(id='p2439', ...), 4, 0)],</div></div><div class=\"p2527\" style=\"display: none;\"><div style=\"display: table-cell;\"></div><div style=\"display: table-cell;\">cols&nbsp;=&nbsp;None,</div></div><div class=\"p2527\" style=\"display: none;\"><div style=\"display: table-cell;\"></div><div style=\"display: table-cell;\">context_menu&nbsp;=&nbsp;None,</div></div><div class=\"p2527\" style=\"display: none;\"><div style=\"display: table-cell;\"></div><div style=\"display: table-cell;\">css_classes&nbsp;=&nbsp;[],</div></div><div class=\"p2527\" style=\"display: none;\"><div style=\"display: table-cell;\"></div><div style=\"display: table-cell;\">disabled&nbsp;=&nbsp;False,</div></div><div class=\"p2527\" style=\"display: none;\"><div style=\"display: table-cell;\"></div><div style=\"display: table-cell;\">flow_mode&nbsp;=&nbsp;'block',</div></div><div class=\"p2527\" style=\"display: none;\"><div style=\"display: table-cell;\"></div><div style=\"display: table-cell;\">height&nbsp;=&nbsp;None,</div></div><div class=\"p2527\" style=\"display: none;\"><div style=\"display: table-cell;\"></div><div style=\"display: table-cell;\">height_policy&nbsp;=&nbsp;'auto',</div></div><div class=\"p2527\" style=\"display: none;\"><div style=\"display: table-cell;\"></div><div style=\"display: table-cell;\">js_event_callbacks&nbsp;=&nbsp;{},</div></div><div class=\"p2527\" style=\"display: none;\"><div style=\"display: table-cell;\"></div><div style=\"display: table-cell;\">js_property_callbacks&nbsp;=&nbsp;{},</div></div><div class=\"p2527\" style=\"display: none;\"><div style=\"display: table-cell;\"></div><div style=\"display: table-cell;\">margin&nbsp;=&nbsp;None,</div></div><div class=\"p2527\" style=\"display: none;\"><div style=\"display: table-cell;\"></div><div style=\"display: table-cell;\">max_height&nbsp;=&nbsp;None,</div></div><div class=\"p2527\" style=\"display: none;\"><div style=\"display: table-cell;\"></div><div style=\"display: table-cell;\">max_width&nbsp;=&nbsp;None,</div></div><div class=\"p2527\" style=\"display: none;\"><div style=\"display: table-cell;\"></div><div style=\"display: table-cell;\">min_height&nbsp;=&nbsp;None,</div></div><div class=\"p2527\" style=\"display: none;\"><div style=\"display: table-cell;\"></div><div style=\"display: table-cell;\">min_width&nbsp;=&nbsp;None,</div></div><div class=\"p2527\" style=\"display: none;\"><div style=\"display: table-cell;\"></div><div style=\"display: table-cell;\">name&nbsp;=&nbsp;None,</div></div><div class=\"p2527\" style=\"display: none;\"><div style=\"display: table-cell;\"></div><div style=\"display: table-cell;\">resizable&nbsp;=&nbsp;False,</div></div><div class=\"p2527\" style=\"display: none;\"><div style=\"display: table-cell;\"></div><div style=\"display: table-cell;\">rows&nbsp;=&nbsp;None,</div></div><div class=\"p2527\" style=\"display: none;\"><div style=\"display: table-cell;\"></div><div style=\"display: table-cell;\">sizing_mode&nbsp;=&nbsp;'stretch_width',</div></div><div class=\"p2527\" style=\"display: none;\"><div style=\"display: table-cell;\"></div><div style=\"display: table-cell;\">spacing&nbsp;=&nbsp;0,</div></div><div class=\"p2527\" style=\"display: none;\"><div style=\"display: table-cell;\"></div><div style=\"display: table-cell;\">styles&nbsp;=&nbsp;{},</div></div><div class=\"p2527\" style=\"display: none;\"><div style=\"display: table-cell;\"></div><div style=\"display: table-cell;\">stylesheets&nbsp;=&nbsp;[],</div></div><div class=\"p2527\" style=\"display: none;\"><div style=\"display: table-cell;\"></div><div style=\"display: table-cell;\">subscribed_events&nbsp;=&nbsp;PropertyValueSet(),</div></div><div class=\"p2527\" style=\"display: none;\"><div style=\"display: table-cell;\"></div><div style=\"display: table-cell;\">syncable&nbsp;=&nbsp;True,</div></div><div class=\"p2527\" style=\"display: none;\"><div style=\"display: table-cell;\"></div><div style=\"display: table-cell;\">tags&nbsp;=&nbsp;[],</div></div><div class=\"p2527\" style=\"display: none;\"><div style=\"display: table-cell;\"></div><div style=\"display: table-cell;\">toolbar&nbsp;=&nbsp;Toolbar(id='p2496', ...),</div></div><div class=\"p2527\" style=\"display: none;\"><div style=\"display: table-cell;\"></div><div style=\"display: table-cell;\">toolbar_location&nbsp;=&nbsp;'right',</div></div><div class=\"p2527\" style=\"display: none;\"><div style=\"display: table-cell;\"></div><div style=\"display: table-cell;\">visible&nbsp;=&nbsp;True,</div></div><div class=\"p2527\" style=\"display: none;\"><div style=\"display: table-cell;\"></div><div style=\"display: table-cell;\">width&nbsp;=&nbsp;None,</div></div><div class=\"p2527\" style=\"display: none;\"><div style=\"display: table-cell;\"></div><div style=\"display: table-cell;\">width_policy&nbsp;=&nbsp;'auto')</div></div></div>\n",
              "<script>\n",
              "(function() {\n",
              "  let expanded = false;\n",
              "  const ellipsis = document.getElementById(\"p2528\");\n",
              "  ellipsis.addEventListener(\"click\", function() {\n",
              "    const rows = document.getElementsByClassName(\"p2527\");\n",
              "    for (let i = 0; i < rows.length; i++) {\n",
              "      const el = rows[i];\n",
              "      el.style.display = expanded ? \"none\" : \"table-row\";\n",
              "    }\n",
              "    ellipsis.innerHTML = expanded ? \"&hellip;)\" : \"&lsaquo;&lsaquo;&lsaquo;\";\n",
              "    expanded = !expanded;\n",
              "  });\n",
              "})();\n",
              "</script>\n"
            ],
            "text/plain": [
              "GridPlot(id='p2497', ...)"
            ]
          },
          "execution_count": 18,
          "metadata": {},
          "output_type": "execute_result"
        }
      ],
      "source": [
        "bt.plot()\n"
      ]
    }
  ],
  "metadata": {
    "colab": {
      "collapsed_sections": [
        "D_sSAN5kf-II",
        "ZTnvYBOKgcy7",
        "rGc5xZoH4A2T"
      ],
      "provenance": []
    },
    "kernelspec": {
      "display_name": "Python 3",
      "name": "python3"
    },
    "language_info": {
      "codemirror_mode": {
        "name": "ipython",
        "version": 3
      },
      "file_extension": ".py",
      "mimetype": "text/x-python",
      "name": "python",
      "nbconvert_exporter": "python",
      "pygments_lexer": "ipython3",
      "version": "3.10.6"
    }
  },
  "nbformat": 4,
  "nbformat_minor": 0
}
